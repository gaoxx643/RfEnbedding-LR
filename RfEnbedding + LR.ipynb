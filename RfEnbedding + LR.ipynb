{
 "cells": [
  {
   "cell_type": "code",
   "execution_count": 1,
   "metadata": {},
   "outputs": [],
   "source": [
    "#http://scikit-learn.org/stable/auto_examples/ensemble/plot_feature_transformation.html#sphx-glr-auto-examples-ensemble-plot-feature-transformation-py\n",
    "\n",
    "import pandas as pd\n",
    "import numpy as np\n",
    "from sklearn.cross_decomposition import CCA,PLSCanonical,PLSRegression\n",
    "import matplotlib.pyplot as plt"
   ]
  },
  {
   "cell_type": "markdown",
   "metadata": {},
   "source": [
    "load one-week experience-related data from Wangkai."
   ]
  },
  {
   "cell_type": "code",
   "execution_count": 2,
   "metadata": {},
   "outputs": [],
   "source": [
    "driver_exp_0 = pd.read_csv('driver_exp_features_1_15.csv')\n",
    "driver_exp_1 = pd.read_csv('driver_exp_features_16_70.csv')\n",
    "driver_exp_2 = pd.read_csv('driver_exp_features_70PLUS.csv')"
   ]
  },
  {
   "cell_type": "markdown",
   "metadata": {},
   "source": [
    "load one-week(post)income-related data for drivers from Lipan"
   ]
  },
  {
   "cell_type": "code",
   "execution_count": 3,
   "metadata": {},
   "outputs": [],
   "source": [
    "driver_income0 = pd.read_table('data_0730_0805.txt')\n",
    "driver_income1 = pd.read_table('data_0806_0812.txt')"
   ]
  },
  {
   "cell_type": "markdown",
   "metadata": {},
   "source": [
    "load security label data from Nick.rao"
   ]
  },
  {
   "cell_type": "code",
   "execution_count": 4,
   "metadata": {},
   "outputs": [],
   "source": [
    "unsafe = pd.read_table('0912_driver_mirror_case_cnt_0806_30d.csv', encoding='gbk', sep=',')"
   ]
  },
  {
   "cell_type": "code",
   "execution_count": 5,
   "metadata": {},
   "outputs": [
    {
     "data": {
      "text/html": [
       "<div>\n",
       "<style scoped>\n",
       "    .dataframe tbody tr th:only-of-type {\n",
       "        vertical-align: middle;\n",
       "    }\n",
       "\n",
       "    .dataframe tbody tr th {\n",
       "        vertical-align: top;\n",
       "    }\n",
       "\n",
       "    .dataframe thead th {\n",
       "        text-align: right;\n",
       "    }\n",
       "</style>\n",
       "<table border=\"1\" class=\"dataframe\">\n",
       "  <thead>\n",
       "    <tr style=\"text-align: right;\">\n",
       "      <th></th>\n",
       "      <th>driver_id</th>\n",
       "      <th>mirror_total_ord_dcnt</th>\n",
       "      <th>renshang_ord_dcnt</th>\n",
       "      <th>xingsaorao_ord_dcnt</th>\n",
       "      <th>sunhuicaiwu_ord_dcnt</th>\n",
       "      <th>shilian_ord_dcnt</th>\n",
       "      <th>cusi_ord_dcnt</th>\n",
       "      <th>qiangjie_ord_dcnt</th>\n",
       "      <th>daoqie_ord_dcnt</th>\n",
       "      <th>bangjiaqiaozha_ord_dcnt</th>\n",
       "      <th>shedu_ord_dcnt</th>\n",
       "      <th>weiguiyunxing_ord_dcnt</th>\n",
       "      <th>qianzaifengxian_ord_dcnt</th>\n",
       "      <th>weixie_ord_dcnt</th>\n",
       "      <th>shipinanquan_ord_dcnt</th>\n",
       "      <th>weixieanquan_ord_dcnt</th>\n",
       "    </tr>\n",
       "  </thead>\n",
       "  <tbody>\n",
       "    <tr>\n",
       "      <th>0</th>\n",
       "      <td>580542545253297</td>\n",
       "      <td>1</td>\n",
       "      <td>0</td>\n",
       "      <td>0</td>\n",
       "      <td>0</td>\n",
       "      <td>0</td>\n",
       "      <td>0</td>\n",
       "      <td>0</td>\n",
       "      <td>0</td>\n",
       "      <td>0</td>\n",
       "      <td>0</td>\n",
       "      <td>0</td>\n",
       "      <td>0</td>\n",
       "      <td>1</td>\n",
       "      <td>0</td>\n",
       "      <td>0</td>\n",
       "    </tr>\n",
       "    <tr>\n",
       "      <th>1</th>\n",
       "      <td>567950132367235</td>\n",
       "      <td>1</td>\n",
       "      <td>0</td>\n",
       "      <td>0</td>\n",
       "      <td>0</td>\n",
       "      <td>0</td>\n",
       "      <td>0</td>\n",
       "      <td>0</td>\n",
       "      <td>0</td>\n",
       "      <td>0</td>\n",
       "      <td>0</td>\n",
       "      <td>0</td>\n",
       "      <td>0</td>\n",
       "      <td>1</td>\n",
       "      <td>0</td>\n",
       "      <td>0</td>\n",
       "    </tr>\n",
       "    <tr>\n",
       "      <th>2</th>\n",
       "      <td>565931240067699</td>\n",
       "      <td>1</td>\n",
       "      <td>0</td>\n",
       "      <td>0</td>\n",
       "      <td>0</td>\n",
       "      <td>0</td>\n",
       "      <td>0</td>\n",
       "      <td>0</td>\n",
       "      <td>0</td>\n",
       "      <td>1</td>\n",
       "      <td>0</td>\n",
       "      <td>0</td>\n",
       "      <td>0</td>\n",
       "      <td>0</td>\n",
       "      <td>0</td>\n",
       "      <td>0</td>\n",
       "    </tr>\n",
       "    <tr>\n",
       "      <th>3</th>\n",
       "      <td>566437054391715</td>\n",
       "      <td>1</td>\n",
       "      <td>0</td>\n",
       "      <td>0</td>\n",
       "      <td>0</td>\n",
       "      <td>0</td>\n",
       "      <td>0</td>\n",
       "      <td>0</td>\n",
       "      <td>0</td>\n",
       "      <td>1</td>\n",
       "      <td>0</td>\n",
       "      <td>0</td>\n",
       "      <td>0</td>\n",
       "      <td>0</td>\n",
       "      <td>0</td>\n",
       "      <td>0</td>\n",
       "    </tr>\n",
       "    <tr>\n",
       "      <th>4</th>\n",
       "      <td>563348738670594</td>\n",
       "      <td>1</td>\n",
       "      <td>0</td>\n",
       "      <td>0</td>\n",
       "      <td>0</td>\n",
       "      <td>0</td>\n",
       "      <td>0</td>\n",
       "      <td>0</td>\n",
       "      <td>0</td>\n",
       "      <td>0</td>\n",
       "      <td>0</td>\n",
       "      <td>0</td>\n",
       "      <td>0</td>\n",
       "      <td>1</td>\n",
       "      <td>0</td>\n",
       "      <td>0</td>\n",
       "    </tr>\n",
       "  </tbody>\n",
       "</table>\n",
       "</div>"
      ],
      "text/plain": [
       "         driver_id  mirror_total_ord_dcnt  renshang_ord_dcnt  \\\n",
       "0  580542545253297                      1                  0   \n",
       "1  567950132367235                      1                  0   \n",
       "2  565931240067699                      1                  0   \n",
       "3  566437054391715                      1                  0   \n",
       "4  563348738670594                      1                  0   \n",
       "\n",
       "   xingsaorao_ord_dcnt  sunhuicaiwu_ord_dcnt  shilian_ord_dcnt  cusi_ord_dcnt  \\\n",
       "0                    0                     0                 0              0   \n",
       "1                    0                     0                 0              0   \n",
       "2                    0                     0                 0              0   \n",
       "3                    0                     0                 0              0   \n",
       "4                    0                     0                 0              0   \n",
       "\n",
       "   qiangjie_ord_dcnt  daoqie_ord_dcnt  bangjiaqiaozha_ord_dcnt  \\\n",
       "0                  0                0                        0   \n",
       "1                  0                0                        0   \n",
       "2                  0                0                        1   \n",
       "3                  0                0                        1   \n",
       "4                  0                0                        0   \n",
       "\n",
       "   shedu_ord_dcnt  weiguiyunxing_ord_dcnt  qianzaifengxian_ord_dcnt  \\\n",
       "0               0                       0                         0   \n",
       "1               0                       0                         0   \n",
       "2               0                       0                         0   \n",
       "3               0                       0                         0   \n",
       "4               0                       0                         0   \n",
       "\n",
       "   weixie_ord_dcnt  shipinanquan_ord_dcnt  weixieanquan_ord_dcnt  \n",
       "0                1                      0                      0  \n",
       "1                1                      0                      0  \n",
       "2                0                      0                      0  \n",
       "3                0                      0                      0  \n",
       "4                1                      0                      0  "
      ]
     },
     "execution_count": 5,
     "metadata": {},
     "output_type": "execute_result"
    }
   ],
   "source": [
    "unsafe.head()"
   ]
  },
  {
   "cell_type": "code",
   "execution_count": 6,
   "metadata": {},
   "outputs": [
    {
     "data": {
      "text/plain": [
       "(2519, 16)"
      ]
     },
     "execution_count": 6,
     "metadata": {},
     "output_type": "execute_result"
    }
   ],
   "source": [
    "unsafe.shape"
   ]
  },
  {
   "cell_type": "code",
   "execution_count": 7,
   "metadata": {},
   "outputs": [
    {
     "data": {
      "text/html": [
       "<div>\n",
       "<style scoped>\n",
       "    .dataframe tbody tr th:only-of-type {\n",
       "        vertical-align: middle;\n",
       "    }\n",
       "\n",
       "    .dataframe tbody tr th {\n",
       "        vertical-align: top;\n",
       "    }\n",
       "\n",
       "    .dataframe thead th {\n",
       "        text-align: right;\n",
       "    }\n",
       "</style>\n",
       "<table border=\"1\" class=\"dataframe\">\n",
       "  <thead>\n",
       "    <tr style=\"text-align: right;\">\n",
       "      <th></th>\n",
       "      <th>city_id</th>\n",
       "      <th>driver_id</th>\n",
       "      <th>online_time_avg</th>\n",
       "      <th>iph</th>\n",
       "      <th>tph</th>\n",
       "      <th>online_time_std</th>\n",
       "      <th>iph_std</th>\n",
       "      <th>tph_std</th>\n",
       "    </tr>\n",
       "  </thead>\n",
       "  <tbody>\n",
       "    <tr>\n",
       "      <th>0</th>\n",
       "      <td>1</td>\n",
       "      <td>562950053805082</td>\n",
       "      <td>0.016667</td>\n",
       "      <td>0.000000</td>\n",
       "      <td>0.000000</td>\n",
       "      <td>0.000000</td>\n",
       "      <td>0.000000</td>\n",
       "      <td>0.000000</td>\n",
       "    </tr>\n",
       "    <tr>\n",
       "      <th>1</th>\n",
       "      <td>1</td>\n",
       "      <td>562950053934600</td>\n",
       "      <td>1.591667</td>\n",
       "      <td>39.326702</td>\n",
       "      <td>0.628272</td>\n",
       "      <td>0.141667</td>\n",
       "      <td>3.130802</td>\n",
       "      <td>0.056366</td>\n",
       "    </tr>\n",
       "    <tr>\n",
       "      <th>2</th>\n",
       "      <td>1</td>\n",
       "      <td>562950054408618</td>\n",
       "      <td>10.844444</td>\n",
       "      <td>63.006762</td>\n",
       "      <td>1.321721</td>\n",
       "      <td>1.278406</td>\n",
       "      <td>3.023289</td>\n",
       "      <td>0.593122</td>\n",
       "    </tr>\n",
       "    <tr>\n",
       "      <th>3</th>\n",
       "      <td>1</td>\n",
       "      <td>562950054466944</td>\n",
       "      <td>1.233333</td>\n",
       "      <td>46.045946</td>\n",
       "      <td>1.297297</td>\n",
       "      <td>1.097927</td>\n",
       "      <td>19.540659</td>\n",
       "      <td>0.361714</td>\n",
       "    </tr>\n",
       "    <tr>\n",
       "      <th>4</th>\n",
       "      <td>1</td>\n",
       "      <td>562950054486958</td>\n",
       "      <td>4.066667</td>\n",
       "      <td>43.924590</td>\n",
       "      <td>2.090164</td>\n",
       "      <td>2.473096</td>\n",
       "      <td>12.092422</td>\n",
       "      <td>0.387330</td>\n",
       "    </tr>\n",
       "  </tbody>\n",
       "</table>\n",
       "</div>"
      ],
      "text/plain": [
       "   city_id        driver_id  online_time_avg        iph       tph  \\\n",
       "0        1  562950053805082         0.016667   0.000000  0.000000   \n",
       "1        1  562950053934600         1.591667  39.326702  0.628272   \n",
       "2        1  562950054408618        10.844444  63.006762  1.321721   \n",
       "3        1  562950054466944         1.233333  46.045946  1.297297   \n",
       "4        1  562950054486958         4.066667  43.924590  2.090164   \n",
       "\n",
       "   online_time_std    iph_std   tph_std  \n",
       "0         0.000000   0.000000  0.000000  \n",
       "1         0.141667   3.130802  0.056366  \n",
       "2         1.278406   3.023289  0.593122  \n",
       "3         1.097927  19.540659  0.361714  \n",
       "4         2.473096  12.092422  0.387330  "
      ]
     },
     "execution_count": 7,
     "metadata": {},
     "output_type": "execute_result"
    }
   ],
   "source": [
    "driver_income0.head()"
   ]
  },
  {
   "cell_type": "code",
   "execution_count": 8,
   "metadata": {},
   "outputs": [
    {
     "name": "stdout",
     "output_type": "stream",
     "text": [
      "(3143263, 8)\n",
      "2825534\n"
     ]
    }
   ],
   "source": [
    "print(driver_income0.shape)\n",
    "print(driver_exp_0.shape[0]+driver_exp_1.shape[0]+driver_exp_2.shape[0])"
   ]
  },
  {
   "cell_type": "code",
   "execution_count": 9,
   "metadata": {},
   "outputs": [
    {
     "data": {
      "text/plain": [
       "(2825534, 159)"
      ]
     },
     "execution_count": 9,
     "metadata": {},
     "output_type": "execute_result"
    }
   ],
   "source": [
    "expall = pd.concat([driver_exp_0,driver_exp_1,driver_exp_2])\n",
    "ids = expall.driver_id\n",
    "expall.shape"
   ]
  },
  {
   "cell_type": "code",
   "execution_count": 10,
   "metadata": {},
   "outputs": [
    {
     "data": {
      "text/html": [
       "<div>\n",
       "<style scoped>\n",
       "    .dataframe tbody tr th:only-of-type {\n",
       "        vertical-align: middle;\n",
       "    }\n",
       "\n",
       "    .dataframe tbody tr th {\n",
       "        vertical-align: top;\n",
       "    }\n",
       "\n",
       "    .dataframe thead th {\n",
       "        text-align: right;\n",
       "    }\n",
       "</style>\n",
       "<table border=\"1\" class=\"dataframe\">\n",
       "  <thead>\n",
       "    <tr style=\"text-align: right;\">\n",
       "      <th></th>\n",
       "      <th>driver_id</th>\n",
       "      <th>cnt_respond_orders_7d</th>\n",
       "      <th>cnt_pinche_orders_7d</th>\n",
       "      <th>cnt_appointment_orders_7d</th>\n",
       "      <th>cnt_morning_peak_orders_7d</th>\n",
       "      <th>cnt_normal_peak_orders_7d</th>\n",
       "      <th>cnt_evening_peak_orders_7d</th>\n",
       "      <th>cnt_cancel_orders_7d</th>\n",
       "      <th>cnt_cancel_by_p_orders_7d</th>\n",
       "      <th>cnt_grab_after_cancel_by_p_orders_7d</th>\n",
       "      <th>...</th>\n",
       "      <th>cnt_driver_star_feedback_5star_7d</th>\n",
       "      <th>cnt_passenger_complaint_7d</th>\n",
       "      <th>cnt_passenger_complaint_result_succeed_7d</th>\n",
       "      <th>cnt_passenger_complaint_result_failed_7d</th>\n",
       "      <th>cnt_driver_complaint_7d</th>\n",
       "      <th>cnt_driver_complaint_result_succeed_7d</th>\n",
       "      <th>cnt_driver_complaint_result_failed_7d</th>\n",
       "      <th>cnt_questionary_comment_order_7d</th>\n",
       "      <th>cnt_questionary_comment_positive_answer_7d</th>\n",
       "      <th>cnt_questionary_comment_negative_answer_7d</th>\n",
       "    </tr>\n",
       "  </thead>\n",
       "  <tbody>\n",
       "    <tr>\n",
       "      <th>0</th>\n",
       "      <td>580542259157740</td>\n",
       "      <td>1</td>\n",
       "      <td>0</td>\n",
       "      <td>0</td>\n",
       "      <td>1.0</td>\n",
       "      <td>NaN</td>\n",
       "      <td>NaN</td>\n",
       "      <td>0</td>\n",
       "      <td>NaN</td>\n",
       "      <td>NaN</td>\n",
       "      <td>...</td>\n",
       "      <td>0</td>\n",
       "      <td>0</td>\n",
       "      <td>NaN</td>\n",
       "      <td>NaN</td>\n",
       "      <td>0</td>\n",
       "      <td>NaN</td>\n",
       "      <td>NaN</td>\n",
       "      <td>1</td>\n",
       "      <td>NaN</td>\n",
       "      <td>NaN</td>\n",
       "    </tr>\n",
       "    <tr>\n",
       "      <th>1</th>\n",
       "      <td>580542259165490</td>\n",
       "      <td>3</td>\n",
       "      <td>0</td>\n",
       "      <td>1</td>\n",
       "      <td>2.0</td>\n",
       "      <td>1.0</td>\n",
       "      <td>NaN</td>\n",
       "      <td>3</td>\n",
       "      <td>2.0</td>\n",
       "      <td>2.0</td>\n",
       "      <td>...</td>\n",
       "      <td>0</td>\n",
       "      <td>0</td>\n",
       "      <td>NaN</td>\n",
       "      <td>NaN</td>\n",
       "      <td>0</td>\n",
       "      <td>NaN</td>\n",
       "      <td>NaN</td>\n",
       "      <td>0</td>\n",
       "      <td>NaN</td>\n",
       "      <td>NaN</td>\n",
       "    </tr>\n",
       "    <tr>\n",
       "      <th>2</th>\n",
       "      <td>580542259165990</td>\n",
       "      <td>14</td>\n",
       "      <td>0</td>\n",
       "      <td>0</td>\n",
       "      <td>5.0</td>\n",
       "      <td>9.0</td>\n",
       "      <td>NaN</td>\n",
       "      <td>5</td>\n",
       "      <td>5.0</td>\n",
       "      <td>5.0</td>\n",
       "      <td>...</td>\n",
       "      <td>0</td>\n",
       "      <td>0</td>\n",
       "      <td>NaN</td>\n",
       "      <td>NaN</td>\n",
       "      <td>0</td>\n",
       "      <td>NaN</td>\n",
       "      <td>NaN</td>\n",
       "      <td>0</td>\n",
       "      <td>NaN</td>\n",
       "      <td>NaN</td>\n",
       "    </tr>\n",
       "    <tr>\n",
       "      <th>3</th>\n",
       "      <td>580542259166070</td>\n",
       "      <td>1</td>\n",
       "      <td>0</td>\n",
       "      <td>0</td>\n",
       "      <td>NaN</td>\n",
       "      <td>1.0</td>\n",
       "      <td>NaN</td>\n",
       "      <td>0</td>\n",
       "      <td>NaN</td>\n",
       "      <td>NaN</td>\n",
       "      <td>...</td>\n",
       "      <td>0</td>\n",
       "      <td>0</td>\n",
       "      <td>NaN</td>\n",
       "      <td>NaN</td>\n",
       "      <td>0</td>\n",
       "      <td>NaN</td>\n",
       "      <td>NaN</td>\n",
       "      <td>1</td>\n",
       "      <td>NaN</td>\n",
       "      <td>NaN</td>\n",
       "    </tr>\n",
       "    <tr>\n",
       "      <th>4</th>\n",
       "      <td>580542259170593</td>\n",
       "      <td>3</td>\n",
       "      <td>1</td>\n",
       "      <td>0</td>\n",
       "      <td>NaN</td>\n",
       "      <td>3.0</td>\n",
       "      <td>NaN</td>\n",
       "      <td>2</td>\n",
       "      <td>1.0</td>\n",
       "      <td>1.0</td>\n",
       "      <td>...</td>\n",
       "      <td>0</td>\n",
       "      <td>0</td>\n",
       "      <td>NaN</td>\n",
       "      <td>NaN</td>\n",
       "      <td>0</td>\n",
       "      <td>NaN</td>\n",
       "      <td>NaN</td>\n",
       "      <td>0</td>\n",
       "      <td>NaN</td>\n",
       "      <td>NaN</td>\n",
       "    </tr>\n",
       "  </tbody>\n",
       "</table>\n",
       "<p>5 rows × 159 columns</p>\n",
       "</div>"
      ],
      "text/plain": [
       "         driver_id  cnt_respond_orders_7d  cnt_pinche_orders_7d  \\\n",
       "0  580542259157740                      1                     0   \n",
       "1  580542259165490                      3                     0   \n",
       "2  580542259165990                     14                     0   \n",
       "3  580542259166070                      1                     0   \n",
       "4  580542259170593                      3                     1   \n",
       "\n",
       "   cnt_appointment_orders_7d  cnt_morning_peak_orders_7d  \\\n",
       "0                          0                         1.0   \n",
       "1                          1                         2.0   \n",
       "2                          0                         5.0   \n",
       "3                          0                         NaN   \n",
       "4                          0                         NaN   \n",
       "\n",
       "   cnt_normal_peak_orders_7d  cnt_evening_peak_orders_7d  \\\n",
       "0                        NaN                         NaN   \n",
       "1                        1.0                         NaN   \n",
       "2                        9.0                         NaN   \n",
       "3                        1.0                         NaN   \n",
       "4                        3.0                         NaN   \n",
       "\n",
       "   cnt_cancel_orders_7d  cnt_cancel_by_p_orders_7d  \\\n",
       "0                     0                        NaN   \n",
       "1                     3                        2.0   \n",
       "2                     5                        5.0   \n",
       "3                     0                        NaN   \n",
       "4                     2                        1.0   \n",
       "\n",
       "   cnt_grab_after_cancel_by_p_orders_7d  \\\n",
       "0                                   NaN   \n",
       "1                                   2.0   \n",
       "2                                   5.0   \n",
       "3                                   NaN   \n",
       "4                                   1.0   \n",
       "\n",
       "                      ...                      \\\n",
       "0                     ...                       \n",
       "1                     ...                       \n",
       "2                     ...                       \n",
       "3                     ...                       \n",
       "4                     ...                       \n",
       "\n",
       "   cnt_driver_star_feedback_5star_7d  cnt_passenger_complaint_7d  \\\n",
       "0                                  0                           0   \n",
       "1                                  0                           0   \n",
       "2                                  0                           0   \n",
       "3                                  0                           0   \n",
       "4                                  0                           0   \n",
       "\n",
       "   cnt_passenger_complaint_result_succeed_7d  \\\n",
       "0                                        NaN   \n",
       "1                                        NaN   \n",
       "2                                        NaN   \n",
       "3                                        NaN   \n",
       "4                                        NaN   \n",
       "\n",
       "   cnt_passenger_complaint_result_failed_7d  cnt_driver_complaint_7d  \\\n",
       "0                                       NaN                        0   \n",
       "1                                       NaN                        0   \n",
       "2                                       NaN                        0   \n",
       "3                                       NaN                        0   \n",
       "4                                       NaN                        0   \n",
       "\n",
       "   cnt_driver_complaint_result_succeed_7d  \\\n",
       "0                                     NaN   \n",
       "1                                     NaN   \n",
       "2                                     NaN   \n",
       "3                                     NaN   \n",
       "4                                     NaN   \n",
       "\n",
       "   cnt_driver_complaint_result_failed_7d  cnt_questionary_comment_order_7d  \\\n",
       "0                                    NaN                                 1   \n",
       "1                                    NaN                                 0   \n",
       "2                                    NaN                                 0   \n",
       "3                                    NaN                                 1   \n",
       "4                                    NaN                                 0   \n",
       "\n",
       "   cnt_questionary_comment_positive_answer_7d  \\\n",
       "0                                         NaN   \n",
       "1                                         NaN   \n",
       "2                                         NaN   \n",
       "3                                         NaN   \n",
       "4                                         NaN   \n",
       "\n",
       "   cnt_questionary_comment_negative_answer_7d  \n",
       "0                                         NaN  \n",
       "1                                         NaN  \n",
       "2                                         NaN  \n",
       "3                                         NaN  \n",
       "4                                         NaN  \n",
       "\n",
       "[5 rows x 159 columns]"
      ]
     },
     "execution_count": 10,
     "metadata": {},
     "output_type": "execute_result"
    }
   ],
   "source": [
    "expall.head()"
   ]
  },
  {
   "cell_type": "code",
   "execution_count": 11,
   "metadata": {},
   "outputs": [
    {
     "data": {
      "text/plain": [
       "0.08915128963233145"
      ]
     },
     "execution_count": 11,
     "metadata": {},
     "output_type": "execute_result"
    }
   ],
   "source": [
    "(unsafe.shape[0]/expall.shape[0])*100 #采样极不均衡怎么处理，是否需要对负样本进行抽样或加权重调节？"
   ]
  },
  {
   "cell_type": "code",
   "execution_count": 12,
   "metadata": {},
   "outputs": [
    {
     "data": {
      "text/html": [
       "<div>\n",
       "<style scoped>\n",
       "    .dataframe tbody tr th:only-of-type {\n",
       "        vertical-align: middle;\n",
       "    }\n",
       "\n",
       "    .dataframe tbody tr th {\n",
       "        vertical-align: top;\n",
       "    }\n",
       "\n",
       "    .dataframe thead th {\n",
       "        text-align: right;\n",
       "    }\n",
       "</style>\n",
       "<table border=\"1\" class=\"dataframe\">\n",
       "  <thead>\n",
       "    <tr style=\"text-align: right;\">\n",
       "      <th></th>\n",
       "      <th>driver_id</th>\n",
       "      <th>mirror_total_ord_dcnt</th>\n",
       "      <th>renshang_ord_dcnt</th>\n",
       "      <th>xingsaorao_ord_dcnt</th>\n",
       "      <th>sunhuicaiwu_ord_dcnt</th>\n",
       "      <th>shilian_ord_dcnt</th>\n",
       "      <th>cusi_ord_dcnt</th>\n",
       "      <th>qiangjie_ord_dcnt</th>\n",
       "      <th>daoqie_ord_dcnt</th>\n",
       "      <th>bangjiaqiaozha_ord_dcnt</th>\n",
       "      <th>shedu_ord_dcnt</th>\n",
       "      <th>weiguiyunxing_ord_dcnt</th>\n",
       "      <th>qianzaifengxian_ord_dcnt</th>\n",
       "      <th>weixie_ord_dcnt</th>\n",
       "      <th>shipinanquan_ord_dcnt</th>\n",
       "      <th>weixieanquan_ord_dcnt</th>\n",
       "    </tr>\n",
       "  </thead>\n",
       "  <tbody>\n",
       "    <tr>\n",
       "      <th>0</th>\n",
       "      <td>580542259157740</td>\n",
       "      <td>NaN</td>\n",
       "      <td>NaN</td>\n",
       "      <td>NaN</td>\n",
       "      <td>NaN</td>\n",
       "      <td>NaN</td>\n",
       "      <td>NaN</td>\n",
       "      <td>NaN</td>\n",
       "      <td>NaN</td>\n",
       "      <td>NaN</td>\n",
       "      <td>NaN</td>\n",
       "      <td>NaN</td>\n",
       "      <td>NaN</td>\n",
       "      <td>NaN</td>\n",
       "      <td>NaN</td>\n",
       "      <td>NaN</td>\n",
       "    </tr>\n",
       "    <tr>\n",
       "      <th>1</th>\n",
       "      <td>580542259165490</td>\n",
       "      <td>NaN</td>\n",
       "      <td>NaN</td>\n",
       "      <td>NaN</td>\n",
       "      <td>NaN</td>\n",
       "      <td>NaN</td>\n",
       "      <td>NaN</td>\n",
       "      <td>NaN</td>\n",
       "      <td>NaN</td>\n",
       "      <td>NaN</td>\n",
       "      <td>NaN</td>\n",
       "      <td>NaN</td>\n",
       "      <td>NaN</td>\n",
       "      <td>NaN</td>\n",
       "      <td>NaN</td>\n",
       "      <td>NaN</td>\n",
       "    </tr>\n",
       "    <tr>\n",
       "      <th>2</th>\n",
       "      <td>580542259165990</td>\n",
       "      <td>NaN</td>\n",
       "      <td>NaN</td>\n",
       "      <td>NaN</td>\n",
       "      <td>NaN</td>\n",
       "      <td>NaN</td>\n",
       "      <td>NaN</td>\n",
       "      <td>NaN</td>\n",
       "      <td>NaN</td>\n",
       "      <td>NaN</td>\n",
       "      <td>NaN</td>\n",
       "      <td>NaN</td>\n",
       "      <td>NaN</td>\n",
       "      <td>NaN</td>\n",
       "      <td>NaN</td>\n",
       "      <td>NaN</td>\n",
       "    </tr>\n",
       "    <tr>\n",
       "      <th>3</th>\n",
       "      <td>580542259166070</td>\n",
       "      <td>NaN</td>\n",
       "      <td>NaN</td>\n",
       "      <td>NaN</td>\n",
       "      <td>NaN</td>\n",
       "      <td>NaN</td>\n",
       "      <td>NaN</td>\n",
       "      <td>NaN</td>\n",
       "      <td>NaN</td>\n",
       "      <td>NaN</td>\n",
       "      <td>NaN</td>\n",
       "      <td>NaN</td>\n",
       "      <td>NaN</td>\n",
       "      <td>NaN</td>\n",
       "      <td>NaN</td>\n",
       "      <td>NaN</td>\n",
       "    </tr>\n",
       "    <tr>\n",
       "      <th>4</th>\n",
       "      <td>580542259170593</td>\n",
       "      <td>NaN</td>\n",
       "      <td>NaN</td>\n",
       "      <td>NaN</td>\n",
       "      <td>NaN</td>\n",
       "      <td>NaN</td>\n",
       "      <td>NaN</td>\n",
       "      <td>NaN</td>\n",
       "      <td>NaN</td>\n",
       "      <td>NaN</td>\n",
       "      <td>NaN</td>\n",
       "      <td>NaN</td>\n",
       "      <td>NaN</td>\n",
       "      <td>NaN</td>\n",
       "      <td>NaN</td>\n",
       "      <td>NaN</td>\n",
       "    </tr>\n",
       "  </tbody>\n",
       "</table>\n",
       "</div>"
      ],
      "text/plain": [
       "         driver_id  mirror_total_ord_dcnt  renshang_ord_dcnt  \\\n",
       "0  580542259157740                    NaN                NaN   \n",
       "1  580542259165490                    NaN                NaN   \n",
       "2  580542259165990                    NaN                NaN   \n",
       "3  580542259166070                    NaN                NaN   \n",
       "4  580542259170593                    NaN                NaN   \n",
       "\n",
       "   xingsaorao_ord_dcnt  sunhuicaiwu_ord_dcnt  shilian_ord_dcnt  cusi_ord_dcnt  \\\n",
       "0                  NaN                   NaN               NaN            NaN   \n",
       "1                  NaN                   NaN               NaN            NaN   \n",
       "2                  NaN                   NaN               NaN            NaN   \n",
       "3                  NaN                   NaN               NaN            NaN   \n",
       "4                  NaN                   NaN               NaN            NaN   \n",
       "\n",
       "   qiangjie_ord_dcnt  daoqie_ord_dcnt  bangjiaqiaozha_ord_dcnt  \\\n",
       "0                NaN              NaN                      NaN   \n",
       "1                NaN              NaN                      NaN   \n",
       "2                NaN              NaN                      NaN   \n",
       "3                NaN              NaN                      NaN   \n",
       "4                NaN              NaN                      NaN   \n",
       "\n",
       "   shedu_ord_dcnt  weiguiyunxing_ord_dcnt  qianzaifengxian_ord_dcnt  \\\n",
       "0             NaN                     NaN                       NaN   \n",
       "1             NaN                     NaN                       NaN   \n",
       "2             NaN                     NaN                       NaN   \n",
       "3             NaN                     NaN                       NaN   \n",
       "4             NaN                     NaN                       NaN   \n",
       "\n",
       "   weixie_ord_dcnt  shipinanquan_ord_dcnt  weixieanquan_ord_dcnt  \n",
       "0              NaN                    NaN                    NaN  \n",
       "1              NaN                    NaN                    NaN  \n",
       "2              NaN                    NaN                    NaN  \n",
       "3              NaN                    NaN                    NaN  \n",
       "4              NaN                    NaN                    NaN  "
      ]
     },
     "execution_count": 12,
     "metadata": {},
     "output_type": "execute_result"
    }
   ],
   "source": [
    "y = pd.merge(pd.DataFrame(ids),unsafe,on='driver_id',how='left')\n",
    "y.head()"
   ]
  },
  {
   "cell_type": "code",
   "execution_count": 13,
   "metadata": {},
   "outputs": [
    {
     "data": {
      "text/plain": [
       "(2825534, 16)"
      ]
     },
     "execution_count": 13,
     "metadata": {},
     "output_type": "execute_result"
    }
   ],
   "source": [
    "y.shape"
   ]
  },
  {
   "cell_type": "code",
   "execution_count": 14,
   "metadata": {},
   "outputs": [],
   "source": [
    "expall.fillna(0, inplace=True)"
   ]
  },
  {
   "cell_type": "code",
   "execution_count": 15,
   "metadata": {},
   "outputs": [],
   "source": [
    "x = expall.iloc[:, 1:]"
   ]
  },
  {
   "cell_type": "code",
   "execution_count": 16,
   "metadata": {},
   "outputs": [],
   "source": [
    "y.fillna(0,inplace=True)"
   ]
  },
  {
   "cell_type": "code",
   "execution_count": 17,
   "metadata": {},
   "outputs": [
    {
     "data": {
      "text/plain": [
       "cnt_respond_orders_7d                                    int64\n",
       "cnt_pinche_orders_7d                                     int64\n",
       "cnt_appointment_orders_7d                                int64\n",
       "cnt_morning_peak_orders_7d                             float64\n",
       "cnt_normal_peak_orders_7d                              float64\n",
       "cnt_evening_peak_orders_7d                             float64\n",
       "cnt_cancel_orders_7d                                     int64\n",
       "cnt_cancel_by_p_orders_7d                              float64\n",
       "cnt_grab_after_cancel_by_p_orders_7d                   float64\n",
       "cnt_grab_before_cancel_by_p_orders_7d                  float64\n",
       "cnt_cancel_by_d_orders_7d                              float64\n",
       "cnt_cancel_final_result_driver_duty_7d                 float64\n",
       "cnt_cancel_by_p_final_result_driver_duty_7d            float64\n",
       "cnt_cancel_by_d_final_result_driver_duty_7d            float64\n",
       "cnt_cancel_result_is_reduce_driver_deal_rate_7d        float64\n",
       "cnt_cancel_result_is_reduce_driver_service_score_7d    float64\n",
       "cnt_cancel_result_driver_duty_penalty_7d               float64\n",
       "sum_cancel_result_driver_duty_penalty_amount_7d        float64\n",
       "cnt_cancel_final_result_passenger_duty_7d              float64\n",
       "cnt_cancel_by_p_final_result_passenger_duty_7d         float64\n",
       "cnt_cancel_by_d_final_result_passenger_duty_7d         float64\n",
       "cnt_cancel_result_passenger_is_duty_penalty_7d         float64\n",
       "sum_cancel_result_passenger_duty_penalty_amount_7d     float64\n",
       "cnt_cancel_driver_induced_cancel_order_7d              float64\n",
       "cnt_empty_drive_compensate_orders_7d                   float64\n",
       "cnt_empty_drive_compensate_orders_platform_cost_7d     float64\n",
       "cnt_empty_drive_compensate_orders_passenger_cost_7d    float64\n",
       "sum_empty_drive_compensation_7d                        float64\n",
       "sum_empty_drive_distance_7d                            float64\n",
       "sum_empty_drive_platform_cost_7d                       float64\n",
       "                                                        ...   \n",
       "cnt_appeal_qiedan_fixed_7d                             float64\n",
       "cnt_appeal_qiedan_fixed_penalty_7d                     float64\n",
       "cnt_appeal_qiedan_fixed_service_score_7d               float64\n",
       "cnt_order_may_appeal_7d                                float64\n",
       "cnt_deal_rate_may_appeal_7d                            float64\n",
       "cnt_penalty_may_appeal_7d                              float64\n",
       "cnt_service_score_may_appeal_7d                        float64\n",
       "cnt_unpaid_may_appeal_7d                               float64\n",
       "cnt_qiedan_may_appeal_7d                               float64\n",
       "cnt_passenger_star_feedback_7d                           int64\n",
       "cnt_passenger_star_feedback_1star_7d                     int64\n",
       "cnt_passenger_star_feedback_2star_7d                     int64\n",
       "cnt_passenger_star_feedback_3star_7d                     int64\n",
       "cnt_passenger_star_feedback_4star_7d                     int64\n",
       "cnt_passenger_star_feedback_5star_7d                     int64\n",
       "cnt_driver_star_feedback_7d                              int64\n",
       "cnt_driver_star_feedback_1star_7d                        int64\n",
       "cnt_driver_star_feedback_2star_7d                        int64\n",
       "cnt_driver_star_feedback_3star_7d                        int64\n",
       "cnt_driver_star_feedback_4star_7d                        int64\n",
       "cnt_driver_star_feedback_5star_7d                        int64\n",
       "cnt_passenger_complaint_7d                               int64\n",
       "cnt_passenger_complaint_result_succeed_7d              float64\n",
       "cnt_passenger_complaint_result_failed_7d               float64\n",
       "cnt_driver_complaint_7d                                  int64\n",
       "cnt_driver_complaint_result_succeed_7d                 float64\n",
       "cnt_driver_complaint_result_failed_7d                  float64\n",
       "cnt_questionary_comment_order_7d                         int64\n",
       "cnt_questionary_comment_positive_answer_7d             float64\n",
       "cnt_questionary_comment_negative_answer_7d             float64\n",
       "Length: 158, dtype: object"
      ]
     },
     "execution_count": 17,
     "metadata": {},
     "output_type": "execute_result"
    }
   ],
   "source": [
    "x.dtypes"
   ]
  },
  {
   "cell_type": "markdown",
   "metadata": {},
   "source": [
    "下面试试RF和RF映射后采用LR的方法。Kfold交叉验证。"
   ]
  },
  {
   "cell_type": "code",
   "execution_count": 18,
   "metadata": {},
   "outputs": [
    {
     "name": "stderr",
     "output_type": "stream",
     "text": [
      "/anaconda3/lib/python3.6/site-packages/sklearn/cross_validation.py:41: DeprecationWarning: This module was deprecated in version 0.18 in favor of the model_selection module into which all the refactored classes and functions are moved. Also note that the interface of the new CV iterators are different from that of this module. This module will be removed in 0.20.\n",
      "  \"This module will be removed in 0.20.\", DeprecationWarning)\n"
     ]
    }
   ],
   "source": [
    "from sklearn.ensemble import (RandomTreesEmbedding,RandomForestClassifier,GradientBoostingClassifier)\n",
    "from sklearn.metrics import roc_curve,roc_auc_score\n",
    "from sklearn import cross_validation"
   ]
  },
  {
   "cell_type": "code",
   "execution_count": 19,
   "metadata": {},
   "outputs": [
    {
     "data": {
      "text/plain": [
       "Index(['driver_id', 'mirror_total_ord_dcnt', 'renshang_ord_dcnt',\n",
       "       'xingsaorao_ord_dcnt', 'sunhuicaiwu_ord_dcnt', 'shilian_ord_dcnt',\n",
       "       'cusi_ord_dcnt', 'qiangjie_ord_dcnt', 'daoqie_ord_dcnt',\n",
       "       'bangjiaqiaozha_ord_dcnt', 'shedu_ord_dcnt', 'weiguiyunxing_ord_dcnt',\n",
       "       'qianzaifengxian_ord_dcnt', 'weixie_ord_dcnt', 'shipinanquan_ord_dcnt',\n",
       "       'weixieanquan_ord_dcnt'],\n",
       "      dtype='object')"
      ]
     },
     "execution_count": 19,
     "metadata": {},
     "output_type": "execute_result"
    }
   ],
   "source": [
    "y.columns"
   ]
  },
  {
   "cell_type": "code",
   "execution_count": 20,
   "metadata": {},
   "outputs": [
    {
     "name": "stderr",
     "output_type": "stream",
     "text": [
      "[Parallel(n_jobs=-1)]: Done  42 tasks      | elapsed:   41.3s\n",
      "[Parallel(n_jobs=-1)]: Done 192 tasks      | elapsed:  3.1min\n",
      "[Parallel(n_jobs=-1)]: Done 200 out of 200 | elapsed:  3.2min finished\n"
     ]
    },
    {
     "data": {
      "text/plain": [
       "RandomForestClassifier(bootstrap=True, class_weight=None, criterion='gini',\n",
       "            max_depth=3, max_features='auto', max_leaf_nodes=None,\n",
       "            min_impurity_decrease=0.0, min_impurity_split=None,\n",
       "            min_samples_leaf=1, min_samples_split=2,\n",
       "            min_weight_fraction_leaf=0.0, n_estimators=200, n_jobs=-1,\n",
       "            oob_score=False, random_state=None, verbose=1,\n",
       "            warm_start=False)"
      ]
     },
     "execution_count": 20,
     "metadata": {},
     "output_type": "execute_result"
    }
   ],
   "source": [
    "# train with RF model\n",
    "n_estimator = 200\n",
    "rf = RandomForestClassifier(max_depth=3,n_estimators=n_estimator,n_jobs=-1,verbose=1)\n",
    "yall = (y.mirror_total_ord_dcnt>0)*1.0\n",
    "ysex = ((y.xingsaorao_ord_dcnt+y.weixie_ord_dcnt+y.weixieanquan_ord_dcnt)>0)*1.0\n",
    "rf.fit(x,ysex)"
   ]
  },
  {
   "cell_type": "code",
   "execution_count": 21,
   "metadata": {},
   "outputs": [
    {
     "name": "stderr",
     "output_type": "stream",
     "text": [
      "[Parallel(n_jobs=4)]: Done  42 tasks      | elapsed:    2.3s\n",
      "[Parallel(n_jobs=4)]: Done 192 tasks      | elapsed:    9.9s\n",
      "[Parallel(n_jobs=4)]: Done 200 out of 200 | elapsed:   10.3s finished\n"
     ]
    },
    {
     "name": "stdout",
     "output_type": "stream",
     "text": [
      "0.8206872561900664\n"
     ]
    }
   ],
   "source": [
    "# The random forest model by itself\n",
    "from sklearn.metrics import roc_auc_score\n",
    "y_pred_rf = rf.predict_proba(x)[:,1]\n",
    "fpr_rf, tpr_rf,_ = roc_curve(yall, y_pred_rf)\n",
    "auc = roc_auc_score(ysex,y_pred_rf)\n",
    "print(auc)"
   ]
  },
  {
   "cell_type": "code",
   "execution_count": 22,
   "metadata": {},
   "outputs": [
    {
     "data": {
      "text/html": [
       "<div>\n",
       "<style scoped>\n",
       "    .dataframe tbody tr th:only-of-type {\n",
       "        vertical-align: middle;\n",
       "    }\n",
       "\n",
       "    .dataframe tbody tr th {\n",
       "        vertical-align: top;\n",
       "    }\n",
       "\n",
       "    .dataframe thead th {\n",
       "        text-align: right;\n",
       "    }\n",
       "</style>\n",
       "<table border=\"1\" class=\"dataframe\">\n",
       "  <thead>\n",
       "    <tr style=\"text-align: right;\">\n",
       "      <th></th>\n",
       "      <th>Feature</th>\n",
       "      <th>importance</th>\n",
       "    </tr>\n",
       "  </thead>\n",
       "  <tbody>\n",
       "    <tr>\n",
       "      <th>96</th>\n",
       "      <td>cnt_appeal_service_score_7d</td>\n",
       "      <td>0.045921</td>\n",
       "    </tr>\n",
       "    <tr>\n",
       "      <th>152</th>\n",
       "      <td>cnt_driver_complaint_7d</td>\n",
       "      <td>0.037060</td>\n",
       "    </tr>\n",
       "    <tr>\n",
       "      <th>100</th>\n",
       "      <td>cnt_appeal_service_score_2nd_7d</td>\n",
       "      <td>0.036717</td>\n",
       "    </tr>\n",
       "    <tr>\n",
       "      <th>73</th>\n",
       "      <td>cnt_appeal_orders_7d</td>\n",
       "      <td>0.036049</td>\n",
       "    </tr>\n",
       "    <tr>\n",
       "      <th>28</th>\n",
       "      <td>sum_empty_drive_distance_7d</td>\n",
       "      <td>0.030711</td>\n",
       "    </tr>\n",
       "    <tr>\n",
       "      <th>31</th>\n",
       "      <td>cnt_fee_objection_orders_7d</td>\n",
       "      <td>0.028694</td>\n",
       "    </tr>\n",
       "    <tr>\n",
       "      <th>144</th>\n",
       "      <td>cnt_driver_star_feedback_1star_7d</td>\n",
       "      <td>0.028357</td>\n",
       "    </tr>\n",
       "    <tr>\n",
       "      <th>47</th>\n",
       "      <td>sum_fee_objection_correction_amount_fujiafei_7d</td>\n",
       "      <td>0.023223</td>\n",
       "    </tr>\n",
       "    <tr>\n",
       "      <th>25</th>\n",
       "      <td>cnt_empty_drive_compensate_orders_platform_cos...</td>\n",
       "      <td>0.023025</td>\n",
       "    </tr>\n",
       "    <tr>\n",
       "      <th>67</th>\n",
       "      <td>cnt_fee_objection_process_type_confirm_no_issu...</td>\n",
       "      <td>0.021908</td>\n",
       "    </tr>\n",
       "  </tbody>\n",
       "</table>\n",
       "</div>"
      ],
      "text/plain": [
       "                                               Feature  importance\n",
       "96                         cnt_appeal_service_score_7d    0.045921\n",
       "152                            cnt_driver_complaint_7d    0.037060\n",
       "100                    cnt_appeal_service_score_2nd_7d    0.036717\n",
       "73                                cnt_appeal_orders_7d    0.036049\n",
       "28                         sum_empty_drive_distance_7d    0.030711\n",
       "31                         cnt_fee_objection_orders_7d    0.028694\n",
       "144                  cnt_driver_star_feedback_1star_7d    0.028357\n",
       "47     sum_fee_objection_correction_amount_fujiafei_7d    0.023223\n",
       "25   cnt_empty_drive_compensate_orders_platform_cos...    0.023025\n",
       "67   cnt_fee_objection_process_type_confirm_no_issu...    0.021908"
      ]
     },
     "execution_count": 22,
     "metadata": {},
     "output_type": "execute_result"
    }
   ],
   "source": [
    "fi = pd.DataFrame(x.columns)\n",
    "fi.columns = ['Feature']\n",
    "fi['importance'] = pd.Series(rf.feature_importances_)\n",
    "fi.sort_values(by='importance', ascending=False).head(10)"
   ]
  },
  {
   "cell_type": "code",
   "execution_count": 23,
   "metadata": {},
   "outputs": [
    {
     "data": {
      "image/png": "[encoded data removed]",
      "text/plain": [
       "<Figure size 432x288 with 1 Axes>"
      ]
     },
     "metadata": {},
     "output_type": "display_data"
    }
   ],
   "source": [
    "# plot ROC curve\n",
    "plt.xlim(0,1)\n",
    "plt.ylim(0.0,1)\n",
    "plt.plot([0,1],[0,1], 'k--')\n",
    "plt.plot(fpr_rf,tpr_rf,label='RF')\n",
    "plt.xlabel('False positive rate')\n",
    "plt.ylabel('True positive rate')\n",
    "plt.title('ROC curve (zoomed in at top left)')\n",
    "plt.legend(loc='best')\n",
    "plt.show()"
   ]
  },
  {
   "cell_type": "code",
   "execution_count": 24,
   "metadata": {},
   "outputs": [
    {
     "name": "stderr",
     "output_type": "stream",
     "text": [
      "[Parallel(n_jobs=-1)]: Done  42 tasks      | elapsed:   33.9s\n",
      "[Parallel(n_jobs=-1)]: Done 192 tasks      | elapsed:  2.4min\n",
      "[Parallel(n_jobs=-1)]: Done 200 out of 200 | elapsed:  2.5min finished\n",
      "[Parallel(n_jobs=4)]: Done  42 tasks      | elapsed:    0.5s\n",
      "[Parallel(n_jobs=4)]: Done 192 tasks      | elapsed:    2.2s\n",
      "[Parallel(n_jobs=4)]: Done 200 out of 200 | elapsed:    2.2s finished\n"
     ]
    },
    {
     "name": "stdout",
     "output_type": "stream",
     "text": [
      "0.6116207865180083\n"
     ]
    },
    {
     "name": "stderr",
     "output_type": "stream",
     "text": [
      "[Parallel(n_jobs=-1)]: Done  42 tasks      | elapsed:   30.6s\n",
      "[Parallel(n_jobs=-1)]: Done 192 tasks      | elapsed:  2.2min\n",
      "[Parallel(n_jobs=-1)]: Done 200 out of 200 | elapsed:  2.3min finished\n",
      "[Parallel(n_jobs=4)]: Done  42 tasks      | elapsed:    0.5s\n",
      "[Parallel(n_jobs=4)]: Done 192 tasks      | elapsed:    2.3s\n",
      "[Parallel(n_jobs=4)]: Done 200 out of 200 | elapsed:    2.3s finished\n"
     ]
    },
    {
     "name": "stdout",
     "output_type": "stream",
     "text": [
      "0.787108791680605\n"
     ]
    },
    {
     "name": "stderr",
     "output_type": "stream",
     "text": [
      "[Parallel(n_jobs=-1)]: Done  42 tasks      | elapsed:   28.0s\n",
      "[Parallel(n_jobs=-1)]: Done 192 tasks      | elapsed:  2.0min\n",
      "[Parallel(n_jobs=-1)]: Done 200 out of 200 | elapsed:  2.1min finished\n",
      "[Parallel(n_jobs=4)]: Done  42 tasks      | elapsed:    0.5s\n",
      "[Parallel(n_jobs=4)]: Done 192 tasks      | elapsed:    2.3s\n",
      "[Parallel(n_jobs=4)]: Done 200 out of 200 | elapsed:    2.4s finished\n"
     ]
    },
    {
     "name": "stdout",
     "output_type": "stream",
     "text": [
      "0.7612231880392061\n"
     ]
    },
    {
     "name": "stderr",
     "output_type": "stream",
     "text": [
      "[Parallel(n_jobs=-1)]: Done  42 tasks      | elapsed:   25.6s\n",
      "[Parallel(n_jobs=-1)]: Done 192 tasks      | elapsed:  1.9min\n",
      "[Parallel(n_jobs=-1)]: Done 200 out of 200 | elapsed:  1.9min finished\n",
      "[Parallel(n_jobs=4)]: Done  42 tasks      | elapsed:    0.5s\n",
      "[Parallel(n_jobs=4)]: Done 192 tasks      | elapsed:    2.3s\n",
      "[Parallel(n_jobs=4)]: Done 200 out of 200 | elapsed:    2.4s finished\n"
     ]
    },
    {
     "name": "stdout",
     "output_type": "stream",
     "text": [
      "0.7530449621248453\n"
     ]
    }
   ],
   "source": [
    "# cross validation with K-fold\n",
    "n_estimator = 200\n",
    "rf = RandomForestClassifier(max_depth=3,n_estimators=n_estimator,n_jobs=-1,verbose=1)\n",
    "kf = cross_validation.KFold(yall.shape[0],n_folds=4)\n",
    "for train_index, test_index in kf:\n",
    "    #print(train_index)\n",
    "    X_train,X_test = x.iloc[train_index], x.iloc[test_index]\n",
    "    y_train,y_test = ysex[train_index],ysex[test_index]\n",
    "    rf.fit(X_train,y_train)\n",
    "    y_pred_rf = rf.predict_proba(X_test)[:,1]\n",
    "    auc = roc_auc_score(y_test,y_pred_rf)\n",
    "    print(auc)"
   ]
  },
  {
   "cell_type": "markdown",
   "metadata": {},
   "source": [
    "试试随机森林映射，将样本分层产出one hot encoding，供Logistic Regression使用。"
   ]
  },
  {
   "cell_type": "code",
   "execution_count": 25,
   "metadata": {},
   "outputs": [],
   "source": [
    "from sklearn.linear_model import LogisticRegression\n",
    "from sklearn.pipeline import make_pipeline"
   ]
  },
  {
   "cell_type": "code",
   "execution_count": 26,
   "metadata": {},
   "outputs": [
    {
     "name": "stdout",
     "output_type": "stream",
     "text": [
      "0.7530449621248453\n",
      "CPU times: user 1min 43s, sys: 49 s, total: 2min 32s\n",
      "Wall time: 2min 34s\n"
     ]
    }
   ],
   "source": [
    "%%time\n",
    "rt = RandomTreesEmbedding(max_depth=2,n_estimators=100,random_state=0,n_jobs=-1)\n",
    "rt_lm = LogisticRegression()\n",
    "pipeline = make_pipeline(rt,rt_lm)\n",
    "pipeline.fit(X_train,y_train)\n",
    "y_pred_rt = pipeline.predict_proba(X_test)[:,1]\n",
    "auc = roc_auc_score(y_test,y_pred_rf)\n",
    "print(auc)"
   ]
  },
  {
   "cell_type": "code",
   "execution_count": 27,
   "metadata": {},
   "outputs": [],
   "source": [
    "def RFLR(X_train,y_train,X_test,y_test):\n",
    "    rt = RandomTreesEmbedding(max_depth=2,n_estimators=50,random_state=0,n_jobs=-1)\n",
    "    rt_lm = LogisticRegression()\n",
    "    pipeline = make_pipeline(rt,rt_lm)\n",
    "    pipeline.fit(X_train,y_train)\n",
    "    y_pred_rt = pipeline.predict_proba(X_test)[:,1]\n",
    "    auc = roc_auc_score(y_test,y_pred_rt)\n",
    "    print(auc)"
   ]
  },
  {
   "cell_type": "code",
   "execution_count": 28,
   "metadata": {},
   "outputs": [
    {
     "name": "stdout",
     "output_type": "stream",
     "text": [
      "0.738885875239736\n",
      "0.7320044539752343\n",
      "0.7224994225122002\n",
      "0.7391912347544028\n",
      "0.6811478819266831\n",
      "CPU times: user 4min 3s, sys: 1min 59s, total: 6min 2s\n",
      "Wall time: 5min 58s\n"
     ]
    }
   ],
   "source": [
    "%%time\n",
    "kf = cross_validation.KFold(ysex.shape[0], n_folds=5, shuffle=True)\n",
    "for train_index, test_index in kf:\n",
    "    X_train, X_test = x.iloc[train_index], x.iloc[test_index]\n",
    "    y_train, y_test = ysex[train_index], ysex[test_index]\n",
    "    RFLR(X_train,y_train,X_test,y_test)"
   ]
  },
  {
   "cell_type": "code",
   "execution_count": 43,
   "metadata": {},
   "outputs": [
    {
     "name": "stdout",
     "output_type": "stream",
     "text": [
      "      Iter       Train Loss      OOB Improve   Remaining Time \n",
      "         1           0.0045          -0.0002           22.48m\n",
      "         2           0.0046          -0.0001           21.14m\n",
      "         3           0.0049           0.0000           20.89m\n",
      "         4           0.0048          -0.0000           21.31m\n",
      "         5           0.0046          -0.0001           20.99m\n",
      "         6           0.0042     -140431.0256           20.77m\n",
      "         7           0.0042          -0.0000           20.66m\n",
      "         8      140431.2290           0.0000           20.31m\n",
      "         9      140431.2287           0.0000           20.04m\n",
      "        10           0.0045           0.0000           19.77m\n",
      "        20           0.0047           0.0000           18.70m\n",
      "        30      140431.2287          -0.0000           17.65m\n",
      "        40           0.0041           0.0000           16.78m\n",
      "        50      140431.2288           0.0000           15.87m\n",
      "        60      140431.2287          -0.0000           14.99m\n",
      "        70      140431.2288           0.0000           13.99m\n",
      "        80           0.0043           0.0000           12.93m\n",
      "        90      140431.2284          -0.0000           11.88m\n",
      "       100           0.0045           0.0000           10.75m\n",
      "       200           0.0042           0.0000            0.00s\n",
      "CPU times: user 26min 42s, sys: 17min 46s, total: 44min 29s\n",
      "Wall time: 48min 57s\n"
     ]
    }
   ],
   "source": [
    "%%time\n",
    "from sklearn.ensemble import (RandomTreesEmbedding, RandomForestClassifier,\n",
    "                              GradientBoostingClassifier)\n",
    "from sklearn.preprocessing import OneHotEncoder\n",
    "from sklearn.model_selection import train_test_split\n",
    "\n",
    "\n",
    "\n",
    "X_train, X_train_lr, y_train, y_train_lr = train_test_split(x,ysex, test_size=0.5)\n",
    "\n",
    "params = {'n_estimators': 200, 'max_depth': 3, 'subsample': 0.5,\n",
    "          'learning_rate': 0.01, 'min_samples_leaf': 1, 'random_state': 3, 'verbose':1}\n",
    "\n",
    "grd = GradientBoostingClassifier(**params)\n",
    "grd_enc = OneHotEncoder()\n",
    "grd_lm = LogisticRegression()\n",
    "grd.fit(X_train,y_train)\n",
    "grd_enc.fit(grd.apply(X_train)[:,:,0])\n",
    "grd_lm.fit(grd_enc.transform(grd.apply(X_train_lr)[:,:,0]),y_train_lr)"
   ]
  },
  {
   "cell_type": "code",
   "execution_count": 44,
   "metadata": {},
   "outputs": [
    {
     "name": "stdout",
     "output_type": "stream",
     "text": [
      "0.8240336873864864\n"
     ]
    }
   ],
   "source": [
    "y_pred_grd_lm = grd_lm.predict_proba(grd_enc.transform(grd.apply(X_test)[:,:,0]))[:,1]\n",
    "fpr_grd_lm, tpr_grd_lm, _ = roc_curve(y_test,y_pred_grd_lm)\n",
    "auc = roc_auc_score(y_test,y_pred_grd_lm)\n",
    "print(auc)"
   ]
  },
  {
   "cell_type": "code",
   "execution_count": 45,
   "metadata": {},
   "outputs": [
    {
     "data": {
      "image/png": "[encoded data removed]",
      "text/plain": [
       "<Figure size 432x288 with 1 Axes>"
      ]
     },
     "metadata": {},
     "output_type": "display_data"
    }
   ],
   "source": [
    "plt.xlim(0,1)\n",
    "plt.ylim(0.0,1)\n",
    "plt.plot([0,1],[0,1], 'k--')\n",
    "plt.plot(fpr_grd_lm,tpr_grd_lm,label='RF')\n",
    "plt.xlabel('False positive rate')\n",
    "plt.ylabel('True positive rate')\n",
    "plt.title('ROC curve (zoomed in at top left)')\n",
    "plt.legend(loc='best')\n",
    "plt.show()"
   ]
  },
  {
   "cell_type": "markdown",
   "metadata": {},
   "source": [
    "find the best number of estimators"
   ]
  },
  {
   "cell_type": "code",
   "execution_count": 46,
   "metadata": {},
   "outputs": [],
   "source": [
    "X_train,X_test, y_train, y_test = train_test_split(x,ysex,test_size=0.5, random_state=0)"
   ]
  },
  {
   "cell_type": "code",
   "execution_count": 47,
   "metadata": {},
   "outputs": [],
   "source": [
    "def heldout_score(grd,X_test,y_test):\n",
    "    score = np.zeros((200,), dtype=np.float64)\n",
    "    for i,y_pred in enumerate(grd.staged_decision_function(X_test)):\n",
    "        score[i] = grd.loss_(y_test,y_pred)\n",
    "    return score"
   ]
  },
  {
   "cell_type": "code",
   "execution_count": 48,
   "metadata": {},
   "outputs": [],
   "source": [
    "from sklearn import ensemble\n",
    "from sklearn.model_selection import KFold\n",
    "def cv_estimate(n_splits=3):\n",
    "    kf = cross_validation.KFold(ysex.shape[0], n_folds=3, shuffle=True)\n",
    "    cv_grd = ensemble.GradientBoostingClassifier(**params)\n",
    "    val_scores = np.zeros((200,),dtype=np.float64)\n",
    "    for train_index, test_index in kf:\n",
    "        X_train, X_test = x.iloc[train_index], x.iloc[test_index]\n",
    "        y_train, y_test = ysex[train_index], ysex[test_index]\n",
    "        cv_grd.fit(X_train, y_train)\n",
    "        val_scores += heldout_score(cv_grd,X_test,y_test)\n",
    "    val_scores /= n_splits\n",
    "    return val_scores"
   ]
  },
  {
   "cell_type": "code",
   "execution_count": 49,
   "metadata": {},
   "outputs": [
    {
     "name": "stdout",
     "output_type": "stream",
     "text": [
      "      Iter       Train Loss      OOB Improve   Remaining Time \n",
      "         1           0.0046          -0.0001           34.87m\n",
      "         2           0.0048          -0.0002           30.76m\n",
      "         3           0.0052           0.0001           29.62m\n",
      "         4           0.0049           0.0000           28.90m\n",
      "         5           0.0047           0.0000           29.03m\n",
      "         6           0.0049          -0.0001           29.01m\n",
      "         7           0.0049           0.0000           28.89m\n",
      "         8           0.0049           0.0000           28.79m\n",
      "         9           0.0048           0.0000           28.81m\n",
      "        10           0.0048           0.0000           28.70m\n",
      "        20           0.0046           0.0000           26.89m\n",
      "        30           0.0043           0.0000           25.27m\n",
      "        40           0.0045           0.0000           23.63m\n",
      "        50           0.0045           0.0000           22.08m\n",
      "        60           0.0043           0.0000           20.53m\n",
      "        70          21.5235           0.0000           19.11m\n",
      "        80          21.5233           0.0000           17.73m\n",
      "        90           0.0048          -0.0000           16.27m\n",
      "       100           0.0043          -0.0000           14.89m\n",
      "       200          21.5232           0.0000            0.00s\n",
      "      Iter       Train Loss      OOB Improve   Remaining Time \n",
      "         1           0.0045          -0.0002           33.13m\n",
      "         2           0.0043          -0.0001           30.33m\n",
      "         3           0.0045     -605275.7111           29.33m\n",
      "         4      605276.3584           0.0000           28.98m\n",
      "         5           0.0047           0.0000           28.73m\n",
      "         6      605276.3584           0.0000           28.49m\n",
      "         7      605276.3583          -0.0001           28.16m\n",
      "         8           0.0045          -0.0002           28.42m\n",
      "         9           0.0042           0.0000           28.27m\n",
      "        10      605276.3584           0.0000           28.08m\n",
      "        20           0.0045           0.0000           27.19m\n",
      "        30           0.0044           0.0000           25.84m\n",
      "        40           0.0045           0.0000           24.28m\n",
      "        50      605276.3579           0.0000           22.59m\n",
      "        60           0.0046           0.0000           20.87m\n",
      "        70      605276.3585           0.0000           19.29m\n",
      "        80           0.0042           0.0000           17.78m\n",
      "        90           0.0042          -0.0000           16.21m\n",
      "       100           0.0046           0.0000           14.69m\n",
      "       200           0.0041          -0.0000            0.00s\n",
      "      Iter       Train Loss      OOB Improve   Remaining Time \n",
      "         1           0.0049          -0.0001           30.89m\n",
      "         2           0.0050           0.0000           30.24m\n",
      "         3           0.0046          -0.0001           28.58m\n",
      "         4           0.0050           0.0000           28.81m\n",
      "         5           0.0048           0.0000           28.88m\n",
      "         6           0.0050           0.0000           28.90m\n",
      "         7           0.0050           0.0000           28.81m\n",
      "         8           0.0046           0.0000           28.53m\n",
      "         9           0.0044           0.0000           28.11m\n",
      "        10           0.0048           0.0000           28.10m\n",
      "        20           0.0047           0.0000           27.63m\n",
      "        30           0.0047           0.0000           26.23m\n",
      "        40           0.0050           0.0000           24.67m\n",
      "        50           0.0046          -0.0000           23.28m\n",
      "        60           0.0045           0.0000           21.68m\n",
      "        70           0.0047           0.0000           20.17m\n",
      "        80           0.0044           0.0000           18.57m\n",
      "        90           0.0046           0.0000           16.97m\n",
      "       100           0.0044           0.0000           15.38m\n",
      "       200           0.0047           0.0000            0.00s\n"
     ]
    }
   ],
   "source": [
    "cv_score = cv_estimate(3)"
   ]
  },
  {
   "cell_type": "code",
   "execution_count": 50,
   "metadata": {},
   "outputs": [
    {
     "data": {
      "text/plain": [
       "array([0.00505563, 0.0050508 , 0.00491712, 0.00491092, 0.00490593,\n",
       "       0.00493621, 0.0049612 , 0.00496262, 0.00495606, 0.00495006,\n",
       "       0.00494543, 0.00495141, 0.00494606, 0.00494144, 0.00493685,\n",
       "       0.00493362, 0.00492867, 0.00492423, 0.00492005, 0.00491616,\n",
       "       0.00492153, 0.00492073, 0.00491791, 0.00491392, 0.00491478,\n",
       "       0.00491159, 0.00494174, 0.00493919, 0.00493118, 0.0049287 ,\n",
       "       0.00492663, 0.00492324, 0.00492737, 0.00492529, 0.00492302,\n",
       "       0.00492086, 0.00491892, 0.00491665, 0.00491392, 0.00491125,\n",
       "       0.0049092 , 0.00490724, 0.00490485, 0.004902  , 0.00489941,\n",
       "       0.00491596, 0.00491344, 0.00491621, 0.00491463, 0.00492003,\n",
       "       0.00491861, 0.00491671, 0.00491524, 0.00491284, 0.00491093,\n",
       "       0.00490939, 0.00490786, 0.00490641, 0.00490498, 0.00490307,\n",
       "       0.00490062, 0.00489896, 0.00489765, 0.00489622, 0.00489547,\n",
       "       0.00489571, 0.0048943 , 0.00489323, 0.00489203, 0.00489039,\n",
       "       0.00488917, 0.00488879, 0.00488742, 0.00488652, 0.00488527,\n",
       "       0.00488442, 0.00488339, 0.00488204, 0.00488122, 0.00487983,\n",
       "       0.00487892, 0.00487755, 0.00487638, 0.00487524, 0.00487446,\n",
       "       0.00487374, 0.00487335, 0.0048724 , 0.00487193, 0.00487142,\n",
       "       0.00487138, 0.00487012, 0.0048689 , 0.00486883, 0.00486779,\n",
       "       0.00486692, 0.00486712, 0.00486604, 0.00486537, 0.0048776 ,\n",
       "       0.0048764 , 0.0048754 , 0.0048744 , 0.00487351, 0.0048727 ,\n",
       "       0.00487149, 0.00487068, 0.00487021, 0.00486967, 0.00486882,\n",
       "       0.00486839, 0.00486747, 0.00486683, 0.00486637, 0.00486541,\n",
       "       0.00486471, 0.00486382, 0.0048629 , 0.00486185, 0.00486223,\n",
       "       0.0048615 , 0.00486136, 0.00486061, 0.00485998, 0.00485919,\n",
       "       0.00485886, 0.00485787, 0.00485748, 0.00485689, 0.00485589,\n",
       "       0.00485535, 0.00485477, 0.0048544 , 0.00485408, 0.00485353,\n",
       "       0.00485277, 0.00485248, 0.00485213, 0.00485184, 0.0048511 ,\n",
       "       0.00485064, 0.00485026, 0.00484927, 0.00484877, 0.00484876,\n",
       "       0.00484837, 0.00484759, 0.00484696, 0.00484639, 0.00484573,\n",
       "       0.00484529, 0.0048448 , 0.00484449, 0.00484365, 0.00484327,\n",
       "       0.00484316, 0.00484274, 0.00484187, 0.00484139, 0.00484087,\n",
       "       0.00484033, 0.00484004, 0.00483996, 0.0048396 , 0.00483934,\n",
       "       0.00483895, 0.0048504 , 0.00484986, 0.00484943, 0.00484893,\n",
       "       0.00484829, 0.00484797, 0.00484774, 0.00484731, 0.00484666,\n",
       "       0.00484624, 0.0048462 , 0.00484583, 0.00484574, 0.00484545,\n",
       "       0.00484516, 0.0048446 , 0.00484438, 0.00484424, 0.00484386,\n",
       "       0.00484364, 0.0048431 , 0.0048427 , 0.00484251, 0.00484221,\n",
       "       0.00484202, 0.00484181, 0.00484135, 0.00484068, 0.00484165,\n",
       "       0.00484133, 0.00484095, 0.00484079, 0.00484066, 0.00484033])"
      ]
     },
     "execution_count": 50,
     "metadata": {},
     "output_type": "execute_result"
    }
   ],
   "source": [
    "cv_score"
   ]
  },
  {
   "cell_type": "code",
   "execution_count": 51,
   "metadata": {},
   "outputs": [],
   "source": [
    "x = np.arange(200) + 1\n",
    "cv_score -= cv_score[0]\n",
    "cv_best_iter = x[np.argmin(cv_score)]"
   ]
  },
  {
   "cell_type": "code",
   "execution_count": 52,
   "metadata": {},
   "outputs": [
    {
     "data": {
      "text/plain": [
       "166"
      ]
     },
     "execution_count": 52,
     "metadata": {},
     "output_type": "execute_result"
    }
   ],
   "source": [
    "cv_best_iter"
   ]
  },
  {
   "cell_type": "code",
   "execution_count": 56,
   "metadata": {},
   "outputs": [
    {
     "data": {
      "text/plain": [
       "(1412767,)"
      ]
     },
     "execution_count": 56,
     "metadata": {},
     "output_type": "execute_result"
    }
   ],
   "source": [
    "y_test.shape"
   ]
  },
  {
   "cell_type": "code",
   "execution_count": 59,
   "metadata": {},
   "outputs": [
    {
     "name": "stdout",
     "output_type": "stream",
     "text": [
      "      Iter       Train Loss      OOB Improve   Remaining Time \n",
      "         1           0.0046          -0.0003           17.94m\n",
      "         2           0.0047          -0.0000           17.63m\n",
      "         3           0.0048          -0.0000           18.18m\n",
      "         4           0.0048           0.0000           18.10m\n",
      "         5           0.0048     -196171.3409           17.62m\n",
      "         6           0.0049           0.0001           17.31m\n",
      "         7      196171.6232           0.0000           17.12m\n",
      "         8           0.0048           0.0000           17.27m\n",
      "         9      196171.6232           0.0000           17.15m\n",
      "        10           0.0049           0.0000           17.19m\n",
      "        20      196171.6226           0.0000           16.06m\n",
      "        30      196171.6233           0.0000           14.79m\n",
      "        40      196171.6231           0.0000           13.62m\n",
      "        50           0.0050           0.0000           12.51m\n",
      "        60      196171.6225           0.0000           11.37m\n",
      "        70      196171.6226           0.0000           10.30m\n",
      "        80           0.0046           0.0000            9.14m\n",
      "        90      196171.6230          -0.0000            8.09m\n",
      "       100      196171.6228           0.0000            7.02m\n",
      "0.8058856384935928\n"
     ]
    }
   ],
   "source": [
    "params2 = {'n_estimators': 166, 'max_depth': 3, 'subsample': 0.5,\n",
    "          'learning_rate': 0.01, 'min_samples_leaf': 1, 'random_state': 3, 'verbose':1}\n",
    "\n",
    "grd2 = GradientBoostingClassifier(**params2)\n",
    "grd2.fit(X_train,y_train)\n",
    "y_pred_grd2 = grd2.predict_proba(X_test)[:,1]\n",
    "fpr_grd_lm, tpr_grd_lm, _ = roc_curve(y_test,y_pred_grd2)\n",
    "auc = roc_auc_score(y_test,y_pred_grd2)\n",
    "print(auc)"
   ]
  },
  {
   "cell_type": "markdown",
   "metadata": {},
   "source": [
    "进行PLS回归，求解x和y的分解，分解后的因子作为特征输入。"
   ]
  },
  {
   "cell_type": "code",
   "execution_count": null,
   "metadata": {},
   "outputs": [],
   "source": [
    "from sklearn.model_selection import train_test_split\n",
    "x1, x2, y1, y2 = train_test_split(x,ysex, test_size=0.2)"
   ]
  },
  {
   "cell_type": "code",
   "execution_count": null,
   "metadata": {},
   "outputs": [],
   "source": [
    "%%time\n",
    "pls2 = PLSRegression(n_components=7) # PLS regression is particularly suited when the matrix of predictors has more variables than observations, and when there is multicollinearity among X values. By contrast, standard regression will fail in these cases (unless it is regularized). \n",
    "pls2.fit(x1,y1)"
   ]
  },
  {
   "cell_type": "code",
   "execution_count": null,
   "metadata": {},
   "outputs": [],
   "source": [
    "%%time\n",
    "x0_r, y0_r = pls2.transform(x1,y1)\n",
    "print(x0_r.shape)"
   ]
  },
  {
   "cell_type": "code",
   "execution_count": null,
   "metadata": {},
   "outputs": [],
   "source": [
    "from sklearn.decomposition import TruncatedSVD"
   ]
  },
  {
   "cell_type": "code",
   "execution_count": null,
   "metadata": {},
   "outputs": [],
   "source": [
    "%%time\n",
    "svd = TruncatedSVD(n_components=50)\n",
    "svd.fit(x1)\n",
    "u = svd.transform(x1)"
   ]
  },
  {
   "cell_type": "code",
   "execution_count": null,
   "metadata": {},
   "outputs": [],
   "source": [
    "for i in range(7):\n",
    "    print(np.corrcoef(y1.T, x0_r[:, i].T)[0, 1])"
   ]
  },
  {
   "cell_type": "code",
   "execution_count": null,
   "metadata": {},
   "outputs": [],
   "source": [
    "X_train.head()"
   ]
  },
  {
   "cell_type": "code",
   "execution_count": null,
   "metadata": {},
   "outputs": [],
   "source": [
    "rts = RandomTreesEmbedding(max_depth=2,n_estimators=50,random_state=0,n_jobs=-1)\n",
    "X_transformed = rts.fit_transform(X_train)"
   ]
  },
  {
   "cell_type": "code",
   "execution_count": null,
   "metadata": {},
   "outputs": [],
   "source": [
    "#print (xx.toarray()[:-10])\n",
    "#a = xx.toarray()\n",
    "#print(sum(a[0]))\n",
    "#print(sum(a[1]))\n",
    "#rts.decision_path(X_train.iloc[:5])"
   ]
  },
  {
   "cell_type": "code",
   "execution_count": null,
   "metadata": {},
   "outputs": [],
   "source": [
    "from sklearn.decomposition import TruncatedSVD\n",
    "svd = TruncatedSVD(n_components=2)\n",
    "X_reduced = svd.fit_transform(X_transformed)"
   ]
  },
  {
   "cell_type": "code",
   "execution_count": null,
   "metadata": {},
   "outputs": [],
   "source": [
    "X_train"
   ]
  },
  {
   "cell_type": "code",
   "execution_count": null,
   "metadata": {},
   "outputs": [],
   "source": [
    "# scatter plot of original and reduced data\n",
    "fig = plt.figure(figsize=(9, 8))\n",
    "\n",
    "ax = plt.subplot(221)\n",
    "ax.scatter(X_train, X_train, c=y_train, s=50, edgecolor='k')\n",
    "ax.set_title(\"Original Data (2d)\")\n",
    "ax.set_xticks(())\n",
    "ax.set_yticks(())\n",
    "\n",
    "ax = plt.subplot(222)\n",
    "ax.scatter(X_reduced[:, 0], X_reduced[:, 1], c=y_train, s=5, edgecolor='k')\n",
    "ax.set_title(\"Truncated SVD reduction (2d) of transformed data (%dd)\" %\n",
    "             X_transformed.shape[1])\n",
    "ax.set_xticks(())\n",
    "ax.set_yticks(())"
   ]
  },
  {
   "cell_type": "code",
   "execution_count": null,
   "metadata": {},
   "outputs": [],
   "source": [
    "y_train.sum()/len(y_train)"
   ]
  },
  {
   "cell_type": "code",
   "execution_count": null,
   "metadata": {},
   "outputs": [],
   "source": [
    "yy = ysex[ysex==1]\n",
    "yy.shape"
   ]
  },
  {
   "cell_type": "code",
   "execution_count": null,
   "metadata": {},
   "outputs": [],
   "source": [
    "for i in np.arange(100):\n",
    "    i = np.random.choice(yy.index, 500)"
   ]
  },
  {
   "cell_type": "code",
   "execution_count": null,
   "metadata": {},
   "outputs": [],
   "source": [
    "len(i)"
   ]
  },
  {
   "cell_type": "code",
   "execution_count": null,
   "metadata": {},
   "outputs": [],
   "source": [
    "choices = np.zeros((5000,))\n",
    "for i in np.arange(5000):\n",
    "    choices[i] = np.random.choice(yy.index,1)"
   ]
  },
  {
   "cell_type": "code",
   "execution_count": null,
   "metadata": {},
   "outputs": [],
   "source": [
    "choices"
   ]
  },
  {
   "cell_type": "code",
   "execution_count": null,
   "metadata": {},
   "outputs": [],
   "source": [
    "np.arange(1,5)"
   ]
  },
  {
   "cell_type": "code",
   "execution_count": null,
   "metadata": {},
   "outputs": [],
   "source": [
    "choices = pd.DataFrame(np.zeros((500,)))"
   ]
  },
  {
   "cell_type": "code",
   "execution_count": null,
   "metadata": {},
   "outputs": [],
   "source": [
    "ysex.shape"
   ]
  },
  {
   "cell_type": "code",
   "execution_count": null,
   "metadata": {},
   "outputs": [],
   "source": [
    "x.shape"
   ]
  },
  {
   "cell_type": "code",
   "execution_count": null,
   "metadata": {},
   "outputs": [],
   "source": [
    "sample = ysex[ysex==1]\n",
    "sample.shape"
   ]
  },
  {
   "cell_type": "code",
   "execution_count": null,
   "metadata": {},
   "outputs": [],
   "source": [
    "tp_sample = sample.sample(10000,replace=True)"
   ]
  },
  {
   "cell_type": "code",
   "execution_count": null,
   "metadata": {},
   "outputs": [],
   "source": [
    "subset = x.sample(10000,replace=False)"
   ]
  },
  {
   "cell_type": "code",
   "execution_count": null,
   "metadata": {},
   "outputs": [],
   "source": []
  }
 ],
 "metadata": {
  "kernelspec": {
   "display_name": "Python 3",
   "language": "python",
   "name": "python3"
  },
  "language_info": {
   "codemirror_mode": {
    "name": "ipython",
    "version": 3
   },
   "file_extension": ".py",
   "mimetype": "text/x-python",
   "name": "python",
   "nbconvert_exporter": "python",
   "pygments_lexer": "ipython3",
   "version": "3.6.5"
  }
 },
 "nbformat": 4,
 "nbformat_minor": 2
}
